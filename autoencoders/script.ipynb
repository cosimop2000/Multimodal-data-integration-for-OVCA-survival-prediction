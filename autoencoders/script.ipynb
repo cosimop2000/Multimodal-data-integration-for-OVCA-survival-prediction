{
 "cells": [
  {
   "cell_type": "code",
   "execution_count": 56,
   "metadata": {},
   "outputs": [],
   "source": [
    "from src.network.customics import CustOMICS\n",
    "from src.tools.prepare_dataset import prepare_dataset\n",
    "from src.tools.utils import get_sub_omics_df, get_common_samples\n",
    "from sklearn.model_selection import train_test_split\n",
    "import numpy as np\n",
    "import pandas as pd\n",
    "import torch\n",
    "\n",
    "import os\n",
    "import configparser\n",
    "\n",
    "\n",
    "parser = configparser.ConfigParser()\n",
    "parser.read('../Data/config.ini')\n",
    "base_path = parser['autoencoder']['base_path']   \n",
    "\n",
    "\n",
    "omics_df = {\n",
    "            'gene_exp': pd.read_csv(os.path.join(base_path, 'TCGA-OV.htseq_fpkm-uq.tsv'), sep='\\t', index_col=0, header=0).T,\n",
    "            'methyl': pd.read_csv(os.path.join(base_path, 'TCGA-OV.methylation27.tsv'), sep='\\t', index_col=0, header=0).T,\n",
    "            'cnv': pd.read_csv(os.path.join(base_path, 'TCGA-OV.gistic.tsv'), sep='\\t', index_col=0, header=0).T,\n",
    "            }\n",
    "clinical_df = pd.read_csv(os.path.join(base_path, 'TCGA-OV.survival_labeled.tsv'), sep='\\t', index_col=0, header=0)\n",
    "\n"
   ]
  },
  {
   "cell_type": "code",
   "execution_count": 63,
   "metadata": {},
   "outputs": [
    {
     "name": "stdout",
     "output_type": "stream",
     "text": [
      "(379, 60483)\n",
      "(613, 24981)\n",
      "(620, 19729)\n"
     ]
    }
   ],
   "source": [
    "for name, omics in omics_df.items():\n",
    "    omics.dropna(inplace=True, how='all', axis=1)\n",
    "    omics.fillna(value=0, inplace=True)   \n",
    "    print(omics.shape)"
   ]
  },
  {
   "cell_type": "code",
   "execution_count": 64,
   "metadata": {},
   "outputs": [
    {
     "name": "stdout",
     "output_type": "stream",
     "text": [
      "n of sample: 369\n"
     ]
    }
   ],
   "source": [
    "lt_samples = get_common_samples([*list(omics_df.values()), clinical_df])\n",
    "print(f\"n of sample: {len(lt_samples)}\")\n",
    "\n",
    "samples_train, samples_test = train_test_split(lt_samples, test_size=0.2)\n",
    "samples_train, samples_val = train_test_split(samples_train, test_size=0.2)\n",
    "\n",
    "\n",
    "omics_train = get_sub_omics_df(omics_df, samples_train)\n",
    "omics_val = get_sub_omics_df(omics_df, samples_val)\n",
    "omics_test = get_sub_omics_df(omics_df, samples_test)\n",
    "\n",
    "\n",
    "x_dim = [omics_df[omic_source].shape[1] for omic_source in omics_df.keys()]\n"
   ]
  },
  {
   "cell_type": "code",
   "execution_count": 65,
   "metadata": {},
   "outputs": [
    {
     "data": {
      "text/html": [
       "<div>\n",
       "<style scoped>\n",
       "    .dataframe tbody tr th:only-of-type {\n",
       "        vertical-align: middle;\n",
       "    }\n",
       "\n",
       "    .dataframe tbody tr th {\n",
       "        vertical-align: top;\n",
       "    }\n",
       "\n",
       "    .dataframe thead th {\n",
       "        text-align: right;\n",
       "    }\n",
       "</style>\n",
       "<table border=\"1\" class=\"dataframe\">\n",
       "  <thead>\n",
       "    <tr style=\"text-align: right;\">\n",
       "      <th></th>\n",
       "      <th>OS</th>\n",
       "      <th>_PATIENT</th>\n",
       "      <th>OS.time</th>\n",
       "      <th>OS.label</th>\n",
       "    </tr>\n",
       "    <tr>\n",
       "      <th>sample</th>\n",
       "      <th></th>\n",
       "      <th></th>\n",
       "      <th></th>\n",
       "      <th></th>\n",
       "    </tr>\n",
       "  </thead>\n",
       "  <tbody>\n",
       "    <tr>\n",
       "      <th>TCGA-04-1655-01A</th>\n",
       "      <td>1</td>\n",
       "      <td>TCGA-04-1655</td>\n",
       "      <td>1380</td>\n",
       "      <td>0</td>\n",
       "    </tr>\n",
       "    <tr>\n",
       "      <th>TCGA-13-1485-01A</th>\n",
       "      <td>1</td>\n",
       "      <td>TCGA-13-1485</td>\n",
       "      <td>629</td>\n",
       "      <td>0</td>\n",
       "    </tr>\n",
       "    <tr>\n",
       "      <th>TCGA-04-1514-01A</th>\n",
       "      <td>1</td>\n",
       "      <td>TCGA-04-1514</td>\n",
       "      <td>1720</td>\n",
       "      <td>1</td>\n",
       "    </tr>\n",
       "    <tr>\n",
       "      <th>TCGA-25-1628-01A</th>\n",
       "      <td>1</td>\n",
       "      <td>TCGA-25-1628</td>\n",
       "      <td>627</td>\n",
       "      <td>0</td>\n",
       "    </tr>\n",
       "    <tr>\n",
       "      <th>TCGA-24-2026-01A</th>\n",
       "      <td>1</td>\n",
       "      <td>TCGA-24-2026</td>\n",
       "      <td>1059</td>\n",
       "      <td>0</td>\n",
       "    </tr>\n",
       "    <tr>\n",
       "      <th>...</th>\n",
       "      <td>...</td>\n",
       "      <td>...</td>\n",
       "      <td>...</td>\n",
       "      <td>...</td>\n",
       "    </tr>\n",
       "    <tr>\n",
       "      <th>TCGA-23-1021-01B</th>\n",
       "      <td>1</td>\n",
       "      <td>TCGA-23-1021</td>\n",
       "      <td>1446</td>\n",
       "      <td>0</td>\n",
       "    </tr>\n",
       "    <tr>\n",
       "      <th>TCGA-13-1511-01A</th>\n",
       "      <td>1</td>\n",
       "      <td>TCGA-13-1511</td>\n",
       "      <td>1650</td>\n",
       "      <td>1</td>\n",
       "    </tr>\n",
       "    <tr>\n",
       "      <th>TCGA-24-1928-01A</th>\n",
       "      <td>1</td>\n",
       "      <td>TCGA-24-1928</td>\n",
       "      <td>336</td>\n",
       "      <td>0</td>\n",
       "    </tr>\n",
       "    <tr>\n",
       "      <th>TCGA-10-0937-01A</th>\n",
       "      <td>1</td>\n",
       "      <td>TCGA-10-0937</td>\n",
       "      <td>608</td>\n",
       "      <td>0</td>\n",
       "    </tr>\n",
       "    <tr>\n",
       "      <th>TCGA-24-1565-01A</th>\n",
       "      <td>1</td>\n",
       "      <td>TCGA-24-1565</td>\n",
       "      <td>312</td>\n",
       "      <td>0</td>\n",
       "    </tr>\n",
       "  </tbody>\n",
       "</table>\n",
       "<p>226 rows × 4 columns</p>\n",
       "</div>"
      ],
      "text/plain": [
       "                  OS      _PATIENT  OS.time  OS.label\n",
       "sample                                               \n",
       "TCGA-04-1655-01A   1  TCGA-04-1655     1380         0\n",
       "TCGA-13-1485-01A   1  TCGA-13-1485      629         0\n",
       "TCGA-04-1514-01A   1  TCGA-04-1514     1720         1\n",
       "TCGA-25-1628-01A   1  TCGA-25-1628      627         0\n",
       "TCGA-24-2026-01A   1  TCGA-24-2026     1059         0\n",
       "...               ..           ...      ...       ...\n",
       "TCGA-23-1021-01B   1  TCGA-23-1021     1446         0\n",
       "TCGA-13-1511-01A   1  TCGA-13-1511     1650         1\n",
       "TCGA-24-1928-01A   1  TCGA-24-1928      336         0\n",
       "TCGA-10-0937-01A   1  TCGA-10-0937      608         0\n",
       "TCGA-24-1565-01A   1  TCGA-24-1565      312         0\n",
       "\n",
       "[226 rows x 4 columns]"
      ]
     },
     "execution_count": 65,
     "metadata": {},
     "output_type": "execute_result"
    }
   ],
   "source": [
    "filtered_df = clinical_df.loc[lt_samples]\n",
    "filtered_df[filtered_df['OS'] == 1]\n"
   ]
  },
  {
   "cell_type": "code",
   "execution_count": 66,
   "metadata": {},
   "outputs": [],
   "source": [
    "batch_size = 32\n",
    "n_epochs = 20\n",
    "device = torch.device('cpu')\n",
    "label = 'OS.label'\n",
    "event = 'OS'\n",
    "surv_time = 'OS.time'\n",
    "\n",
    "task = 'classification'\n",
    "sources = omics_df.keys()\n",
    "\n",
    "hidden_dim = [512, 256]\n",
    "central_dim = [512, 256]\n",
    "rep_dim = 256\n",
    "latent_dim = 256\n",
    "num_classes = 2\n",
    "dropout = 0.45\n",
    "beta = 1\n",
    "lambda_classif = 5\n",
    "classifier_dim = [128]\n",
    "lambda_survival = 0\n",
    "survival_dim = [256]\n",
    "\n",
    "source_params = {}\n",
    "central_params = {'hidden_dim': central_dim, 'latent_dim': latent_dim, 'norm': True, 'dropout': dropout, 'beta': beta}\n",
    "classif_params = {'n_class': num_classes, 'lambda': lambda_classif, 'hidden_layers': classifier_dim, 'dropout': dropout}\n",
    "surv_params = {'lambda': lambda_survival, 'dims': survival_dim, 'activation': 'SELU', 'l2_reg': 1e-3, 'norm': True, 'dropout': dropout}\n",
    "for i, source in enumerate(sources):\n",
    "    source_params[source] = {'input_dim': x_dim[i], 'hidden_dim': hidden_dim, 'latent_dim': rep_dim, 'norm': True, 'dropout': 0.2}\n",
    "train_params = {'switch': 5, 'lr': 1e-3}\n"
   ]
  },
  {
   "cell_type": "code",
   "execution_count": 67,
   "metadata": {},
   "outputs": [
    {
     "name": "stdout",
     "output_type": "stream",
     "text": [
      "Number of Parameters:  83404265\n"
     ]
    }
   ],
   "source": [
    "model = CustOMICS(source_params=source_params, central_params=central_params, classif_params=classif_params,\n",
    "                        surv_params=surv_params, train_params=train_params, device=device).to(device)\n",
    "print('Number of Parameters: ', model.get_number_parameters())"
   ]
  },
  {
   "cell_type": "code",
   "execution_count": 68,
   "metadata": {},
   "outputs": [
    {
     "name": "stderr",
     "output_type": "stream",
     "text": [
      "`sparse` was renamed to `sparse_output` in version 1.2 and will be removed in 1.4. `sparse_output` is ignored unless you leave `sparse` to its default value.\n"
     ]
    },
    {
     "name": "stdout",
     "output_type": "stream",
     "text": [
      "\tEpoch 1 complete! \tAverage Loss Train :  3.9038628935813904 \tAverage Loss Val :  3.5938212871551514\n",
      "\tEpoch 2 complete! \tAverage Loss Train :  3.4782447814941406 \tAverage Loss Val :  3.266886830329895\n",
      "\tEpoch 3 complete! \tAverage Loss Train :  3.0834647119045258 \tAverage Loss Val :  3.052852749824524\n",
      "\tEpoch 4 complete! \tAverage Loss Train :  2.6963510513305664 \tAverage Loss Val :  2.841654896736145\n",
      "\tEpoch 5 complete! \tAverage Loss Train :  2.3417321741580963 \tAverage Loss Val :  2.5207360982894897\n",
      "\tEpoch 6 complete! \tAverage Loss Train :  2.0085654109716415 \tAverage Loss Val :  2.0210938453674316\n",
      "\tEpoch 7 complete! \tAverage Loss Train :  1.6742042005062103 \tAverage Loss Val :  1.8128654956817627\n",
      "\tEpoch 8 complete! \tAverage Loss Train :  1.380123645067215 \tAverage Loss Val :  1.4413940906524658\n",
      "\tEpoch 9 complete! \tAverage Loss Train :  1.141422837972641 \tAverage Loss Val :  1.3308883309364319\n",
      "\tEpoch 10 complete! \tAverage Loss Train :  0.9423379972577095 \tAverage Loss Val :  1.193251132965088\n",
      "\tEpoch 11 complete! \tAverage Loss Train :  0.7981261312961578 \tAverage Loss Val :  1.095052182674408\n",
      "\tEpoch 12 complete! \tAverage Loss Train :  0.6744446828961372 \tAverage Loss Val :  1.009602427482605\n",
      "\tEpoch 13 complete! \tAverage Loss Train :  0.5685961619019508 \tAverage Loss Val :  0.9027426540851593\n",
      "\tEpoch 14 complete! \tAverage Loss Train :  0.5091981142759323 \tAverage Loss Val :  0.8136813640594482\n",
      "\tEpoch 15 complete! \tAverage Loss Train :  0.45197974517941475 \tAverage Loss Val :  0.7431659698486328\n",
      "\tEpoch 16 complete! \tAverage Loss Train :  0.40769844129681587 \tAverage Loss Val :  0.6893651783466339\n",
      "\tEpoch 17 complete! \tAverage Loss Train :  0.384695190936327 \tAverage Loss Val :  0.6525260210037231\n",
      "\tEpoch 18 complete! \tAverage Loss Train :  0.36732320487499237 \tAverage Loss Val :  0.6197344362735748\n",
      "\tEpoch 19 complete! \tAverage Loss Train :  0.3486185483634472 \tAverage Loss Val :  0.6012943089008331\n",
      "\tEpoch 20 complete! \tAverage Loss Train :  0.34254783019423485 \tAverage Loss Val :  0.570956826210022\n"
     ]
    }
   ],
   "source": [
    "model.fit(omics_train=omics_train, clinical_df=clinical_df, label=label, event=event, surv_time=surv_time,\n",
    "            omics_val=omics_val, batch_size=batch_size, n_epochs=n_epochs, verbose=True)"
   ]
  },
  {
   "cell_type": "code",
   "execution_count": null,
   "metadata": {},
   "outputs": [],
   "source": [
    "model.evaluate(omics_test=omics_test, clinical_df=clinical_df, label=label, event=event, surv_time=surv_time,\n",
    "                task=task, batch_size=32, plot_roc=True)"
   ]
  },
  {
   "cell_type": "code",
   "execution_count": null,
   "metadata": {},
   "outputs": [],
   "source": [
    "model.plot_loss()\n"
   ]
  }
 ],
 "metadata": {
  "kernelspec": {
   "display_name": "deep",
   "language": "python",
   "name": "python3"
  },
  "language_info": {
   "codemirror_mode": {
    "name": "ipython",
    "version": 3
   },
   "file_extension": ".py",
   "mimetype": "text/x-python",
   "name": "python",
   "nbconvert_exporter": "python",
   "pygments_lexer": "ipython3",
   "version": "3.1.0"
  }
 },
 "nbformat": 4,
 "nbformat_minor": 2
}
