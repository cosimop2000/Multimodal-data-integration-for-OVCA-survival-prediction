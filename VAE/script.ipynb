{
 "cells": [
  {
   "cell_type": "code",
   "execution_count": 17,
   "metadata": {},
   "outputs": [],
   "source": [
    "from src.network.customics import CustOMICS\n",
    "from src.tools.prepare_dataset import prepare_dataset\n",
    "from src.tools.utils import get_sub_omics_df, get_common_samples\n",
    "from sklearn.model_selection import train_test_split\n",
    "import numpy as np\n",
    "import pandas as pd\n",
    "import torch\n",
    "\n",
    "omics_df = {#'protein': pd.read_csv('toy_data/protein.txt', sep='\\t', index_col=0, header=0).T,\n",
    "            'gene_exp': pd.read_csv('/Users/jacksalici/Documents/University/2024-1_AIxBioInformatics/Project/CustoMics/TCGA-OV.htseq_fpkm.tsv', sep='\\t', index_col=0, header=0).T,\n",
    "            'methyl': pd.read_csv('/Users/jacksalici/Documents/University/2024-1_AIxBioInformatics/Project/CustoMics/TCGA-OV.methylation27.tsv', sep='\\t', index_col=0, header=0).T\n",
    "            }\n",
    "clinical_df = pd.read_csv('/Users/jacksalici/Documents/University/2024-1_AIxBioInformatics/Project/CustoMics/TCGA-OV.survival.tsv', sep='\\t', index_col=0, header=0)\n",
    "\n"
   ]
  },
  {
   "cell_type": "code",
   "execution_count": 18,
   "metadata": {},
   "outputs": [],
   "source": [
    "for name, omics in omics_df.items():\n",
    "    omics.dropna(inplace=True, how='all', axis=1)\n",
    "    omics.fillna(value=0, inplace=True)   "
   ]
  },
  {
   "cell_type": "code",
   "execution_count": 19,
   "metadata": {},
   "outputs": [
    {
     "data": {
      "text/plain": [
       "{'gene_exp': Ensembl_ID        ENSG00000242268.2  ENSG00000270112.3  ENSG00000167578.15  \\\n",
       " TCGA-23-1120-01A           0.000000           0.057584            1.595397   \n",
       " TCGA-29-1695-01A           0.118122           0.006816            2.562768   \n",
       " TCGA-61-2003-01A           0.000000           0.058252            2.685684   \n",
       " TCGA-13-1404-01A           0.000000           0.029621            1.760746   \n",
       " TCGA-23-1027-01A           0.000000           0.001993            2.374482   \n",
       " ...                             ...                ...                 ...   \n",
       " TCGA-23-2078-01A           0.844446           0.095507            1.655006   \n",
       " TCGA-09-1666-01A           0.206684           0.013154            1.922098   \n",
       " TCGA-29-1777-01A           0.000000           0.023142            1.524814   \n",
       " TCGA-61-2110-01A           0.000000           0.004686            2.215695   \n",
       " TCGA-29-1776-01A           0.000000           0.027489            1.630033   \n",
       " \n",
       " Ensembl_ID        ENSG00000273842.1  ENSG00000078237.5  ENSG00000146083.10  \\\n",
       " TCGA-23-1120-01A            0.00000           1.562164            4.887403   \n",
       " TCGA-29-1695-01A            0.00000           3.491078            4.459784   \n",
       " TCGA-61-2003-01A            0.00000           2.006343            4.864763   \n",
       " TCGA-13-1404-01A            0.00000           1.527084            4.878313   \n",
       " TCGA-23-1027-01A            0.00000           2.291375            4.919271   \n",
       " ...                             ...                ...                 ...   \n",
       " TCGA-23-2078-01A            0.23119           2.163246            5.004105   \n",
       " TCGA-09-1666-01A            0.00000           2.320479            4.946550   \n",
       " TCGA-29-1777-01A            0.00000           1.987396            3.958453   \n",
       " TCGA-61-2110-01A            0.00000           2.608711            4.933179   \n",
       " TCGA-29-1776-01A            0.00000           1.559344            4.832666   \n",
       " \n",
       " Ensembl_ID        ENSG00000225275.4  ENSG00000158486.12  ENSG00000198242.12  \\\n",
       " TCGA-23-1120-01A                0.0            0.117029            8.617707   \n",
       " TCGA-29-1695-01A                0.0            0.023181            7.994467   \n",
       " TCGA-61-2003-01A                0.0            0.224265            7.812974   \n",
       " TCGA-13-1404-01A                0.0            0.223358            9.139024   \n",
       " TCGA-23-1027-01A                0.0            0.103925            8.934153   \n",
       " ...                             ...                 ...                 ...   \n",
       " TCGA-23-2078-01A                0.0            0.342647            7.811183   \n",
       " TCGA-09-1666-01A                0.0            0.534083            9.129407   \n",
       " TCGA-29-1777-01A                0.0            0.059914            9.397627   \n",
       " TCGA-61-2110-01A                0.0            0.689900            9.787043   \n",
       " TCGA-29-1776-01A                0.0            0.332560            8.148361   \n",
       " \n",
       " Ensembl_ID        ENSG00000259883.1  ...  ENSG00000238244.3  \\\n",
       " TCGA-23-1120-01A           0.148093  ...                0.0   \n",
       " TCGA-29-1695-01A           0.044644  ...                0.0   \n",
       " TCGA-61-2003-01A           0.125854  ...                0.0   \n",
       " TCGA-13-1404-01A           0.114504  ...                0.0   \n",
       " TCGA-23-1027-01A           0.039164  ...                0.0   \n",
       " ...                             ...  ...                ...   \n",
       " TCGA-23-2078-01A           0.215590  ...                0.0   \n",
       " TCGA-09-1666-01A           0.000000  ...                0.0   \n",
       " TCGA-29-1777-01A           0.099694  ...                0.0   \n",
       " TCGA-61-2110-01A           0.060996  ...                0.0   \n",
       " TCGA-29-1776-01A           0.071857  ...                0.0   \n",
       " \n",
       " Ensembl_ID        ENSG00000186115.11  ENSG00000216352.1  ENSG00000267117.1  \\\n",
       " TCGA-23-1120-01A            0.110472           0.000000           1.637134   \n",
       " TCGA-29-1695-01A            0.005552           0.012899           0.150419   \n",
       " TCGA-61-2003-01A            0.894467           0.000000           0.467252   \n",
       " TCGA-13-1404-01A            0.009715           0.000000           0.418965   \n",
       " TCGA-23-1027-01A            0.025747           0.000000           0.365874   \n",
       " ...                              ...                ...                ...   \n",
       " TCGA-23-2078-01A            0.157118           0.000000           1.088925   \n",
       " TCGA-09-1666-01A            0.000000           0.000000           0.319605   \n",
       " TCGA-29-1777-01A            0.000000           0.000000           0.170032   \n",
       " TCGA-61-2110-01A            0.059893           0.000000           0.380734   \n",
       " TCGA-29-1776-01A            0.009011           0.000000           0.440561   \n",
       " \n",
       " Ensembl_ID        ENSG00000273233.1  ENSG00000105063.17  ENSG00000231119.2  \\\n",
       " TCGA-23-1120-01A           0.334420            5.181527           0.606132   \n",
       " TCGA-29-1695-01A           0.000000            4.692686           0.409443   \n",
       " TCGA-61-2003-01A           0.046833            4.573247           0.676528   \n",
       " TCGA-13-1404-01A           0.000000            2.924392           0.846389   \n",
       " TCGA-23-1027-01A           0.070121            4.686929           0.472007   \n",
       " ...                             ...                 ...                ...   \n",
       " TCGA-23-2078-01A           0.277572            4.684468           0.602489   \n",
       " TCGA-09-1666-01A           0.000000            4.168769           0.361771   \n",
       " TCGA-29-1777-01A           0.000000            3.627414           0.753685   \n",
       " TCGA-61-2110-01A           0.055306            4.410709           1.327268   \n",
       " TCGA-29-1776-01A           0.000000            4.191918           0.231585   \n",
       " \n",
       " Ensembl_ID        ENSG00000280861.1  ENSG00000123685.7  ENSG00000181518.3  \n",
       " TCGA-23-1120-01A                0.0           0.775446           0.014979  \n",
       " TCGA-29-1695-01A                0.0           0.445437           0.000000  \n",
       " TCGA-61-2003-01A                0.0           1.007400           0.000000  \n",
       " TCGA-13-1404-01A                0.0           0.492515           0.045302  \n",
       " TCGA-23-1027-01A                0.0           0.585447           0.000000  \n",
       " ...                             ...                ...                ...  \n",
       " TCGA-23-2078-01A                0.0           0.685229           0.000000  \n",
       " TCGA-09-1666-01A                0.0           0.634904           0.033477  \n",
       " TCGA-29-1777-01A                0.0           0.890613           0.029590  \n",
       " TCGA-61-2110-01A                0.0           0.452261           0.000000  \n",
       " TCGA-29-1776-01A                0.0           0.326512           0.021183  \n",
       " \n",
       " [379 rows x 60483 columns],\n",
       " 'methyl': Composite Element REF  cg00000292  cg00002426  cg00003994  cg00005847  \\\n",
       " TCGA-09-2051-01A         0.882211    0.599323    0.028172    0.809044   \n",
       " TCGA-29-1695-01A         0.609526    0.569447    0.036308    0.821375   \n",
       " TCGA-24-1556-01A         0.932333    0.023285    0.028017    0.151088   \n",
       " TCGA-61-2003-01A         0.778579    0.187931    0.022277    0.858141   \n",
       " TCGA-25-1631-01A         0.868855    0.054846    0.020664    0.839313   \n",
       " ...                           ...         ...         ...         ...   \n",
       " TCGA-09-1666-01A         0.837333    0.257442    0.131369    0.105464   \n",
       " TCGA-29-1777-01A         0.770512    0.112517    0.031158    0.775153   \n",
       " TCGA-61-2110-01A         0.906607    0.069689    0.042393    0.360970   \n",
       " TCGA-25-2042-01A         0.754542    0.185202    0.038078    0.611481   \n",
       " TCGA-13-1819-02A         0.773391    0.766590    0.028413    0.178023   \n",
       " \n",
       " Composite Element REF  cg00007981  cg00008493  cg00008713  cg00009407  \\\n",
       " TCGA-09-2051-01A         0.022573    0.991214    0.011510    0.007083   \n",
       " TCGA-29-1695-01A         0.018376    0.852059    0.013135    0.008910   \n",
       " TCGA-24-1556-01A         0.017380    0.986907    0.012577    0.008568   \n",
       " TCGA-61-2003-01A         0.026644    0.984246    0.011383    0.010217   \n",
       " TCGA-25-1631-01A         0.011184    0.988178    0.008534    0.009668   \n",
       " ...                           ...         ...         ...         ...   \n",
       " TCGA-09-1666-01A         0.000000    0.989616    0.011365    0.023441   \n",
       " TCGA-29-1777-01A         0.016400    0.984000    0.010291    0.007987   \n",
       " TCGA-61-2110-01A         0.015858    0.989902    0.009227    0.005049   \n",
       " TCGA-25-2042-01A         0.018513    0.987766    0.010533    0.007434   \n",
       " TCGA-13-1819-02A         0.022681    0.989842    0.010504    0.009505   \n",
       " \n",
       " Composite Element REF  cg00010193  cg00011459  ...  cg27652350  cg27653134  \\\n",
       " TCGA-09-2051-01A         0.686864    0.956634  ...    0.920512    0.221247   \n",
       " TCGA-29-1695-01A         0.576016    0.891317  ...    0.802843    0.121262   \n",
       " TCGA-24-1556-01A         0.644958    0.946050  ...    0.961912    0.859666   \n",
       " TCGA-61-2003-01A         0.793486    0.944136  ...    0.822733    0.633657   \n",
       " TCGA-25-1631-01A         0.605218    0.821140  ...    0.939401    0.773019   \n",
       " ...                           ...         ...  ...         ...         ...   \n",
       " TCGA-09-1666-01A         0.703512    0.749821  ...    0.955327    0.000000   \n",
       " TCGA-29-1777-01A         0.619186    0.932382  ...    0.952348    0.642306   \n",
       " TCGA-61-2110-01A         0.763115    0.961261  ...    0.936808    0.917812   \n",
       " TCGA-25-2042-01A         0.639941    0.950370  ...    0.668123    0.228524   \n",
       " TCGA-13-1819-02A         0.602717    0.954231  ...    0.525512    0.460313   \n",
       " \n",
       " Composite Element REF  cg27654142  cg27655905  cg27657249  cg27657283  \\\n",
       " TCGA-09-2051-01A         0.012737    0.032604    0.134091    0.026902   \n",
       " TCGA-29-1695-01A         0.028233    0.026758    0.095905    0.040438   \n",
       " TCGA-24-1556-01A         0.011924    0.024262    0.110213    0.024158   \n",
       " TCGA-61-2003-01A         0.028200    0.030920    0.071310    0.029023   \n",
       " TCGA-25-1631-01A         0.010757    0.031813    0.108360    0.035402   \n",
       " ...                           ...         ...         ...         ...   \n",
       " TCGA-09-1666-01A         0.017885    0.030398    0.077543    0.071493   \n",
       " TCGA-29-1777-01A         0.015908    0.022818    0.123927    0.025180   \n",
       " TCGA-61-2110-01A         0.013884    0.017485    0.072161    0.018192   \n",
       " TCGA-25-2042-01A         0.020237    0.025212    0.141425    0.036029   \n",
       " TCGA-13-1819-02A         0.019638    0.021148    0.156312    0.037005   \n",
       " \n",
       " Composite Element REF  cg27661264  cg27662379  cg27662877  cg27665659  \n",
       " TCGA-09-2051-01A         0.308505    0.008818    0.014910    0.016684  \n",
       " TCGA-29-1695-01A         0.172634    0.007147    0.017705    0.014693  \n",
       " TCGA-24-1556-01A         0.308224    0.010642    0.016425    0.018610  \n",
       " TCGA-61-2003-01A         0.442085    0.015791    0.032173    0.033043  \n",
       " TCGA-25-1631-01A         0.393971    0.009652    0.016181    0.015743  \n",
       " ...                           ...         ...         ...         ...  \n",
       " TCGA-09-1666-01A         0.392576    0.009357    0.030245    0.008763  \n",
       " TCGA-29-1777-01A         0.396176    0.007588    0.021154    0.014266  \n",
       " TCGA-61-2110-01A         0.095605    0.012393    0.027982    0.010372  \n",
       " TCGA-25-2042-01A         0.268064    0.007746    0.018975    0.019211  \n",
       " TCGA-13-1819-02A         0.376663    0.010005    0.022345    0.012457  \n",
       " \n",
       " [613 rows x 24981 columns]}"
      ]
     },
     "execution_count": 19,
     "metadata": {},
     "output_type": "execute_result"
    }
   ],
   "source": [
    "omics_df"
   ]
  },
  {
   "cell_type": "code",
   "execution_count": 20,
   "metadata": {},
   "outputs": [
    {
     "name": "stdout",
     "output_type": "stream",
     "text": [
      "n of sample: 371\n"
     ]
    }
   ],
   "source": [
    "lt_samples = get_common_samples([*list(omics_df.values()), clinical_df])\n",
    "print(f\"n of sample: {len(lt_samples)}\")\n",
    "\n",
    "samples_train, samples_test = train_test_split(lt_samples, test_size=0.2)\n",
    "samples_train, samples_val = train_test_split(samples_train, test_size=0.2)\n",
    "\n",
    "\n",
    "omics_train = get_sub_omics_df(omics_df, samples_train)\n",
    "omics_val = get_sub_omics_df(omics_df, samples_val)\n",
    "omics_test = get_sub_omics_df(omics_df, samples_test)\n",
    "\n",
    "\n",
    "x_dim = [omics_df[omic_source].shape[1] for omic_source in omics_df.keys()]\n"
   ]
  },
  {
   "cell_type": "code",
   "execution_count": 26,
   "metadata": {},
   "outputs": [],
   "source": [
    "batch_size = 32\n",
    "n_epochs = 15\n",
    "device = torch.device('cpu')\n",
    "label = 'OS'\n",
    "event = 'OS'\n",
    "surv_time = 'OS.time'\n",
    "\n",
    "task = 'survival'\n",
    "sources = omics_df.keys()\n",
    "\n",
    "hidden_dim = [512, 256]\n",
    "central_dim = [512, 256]\n",
    "rep_dim = 256\n",
    "latent_dim = 256\n",
    "num_classes = 3\n",
    "dropout = 0.45\n",
    "beta = 1\n",
    "lambda_classif = 5\n",
    "classifier_dim = [128, 64]\n",
    "lambda_survival = 5\n",
    "survival_dim = [128,32]\n",
    "\n",
    "source_params = {}\n",
    "central_params = {'hidden_dim': central_dim, 'latent_dim': latent_dim, 'norm': True, 'dropout': dropout, 'beta': beta}\n",
    "classif_params = {'n_class': num_classes, 'lambda': lambda_classif, 'hidden_layers': classifier_dim, 'dropout': dropout}\n",
    "surv_params = {'lambda': lambda_survival, 'dims': survival_dim, 'activation': 'SELU', 'l2_reg': 1e-2, 'norm': True, 'dropout': dropout}\n",
    "for i, source in enumerate(sources):\n",
    "    source_params[source] = {'input_dim': x_dim[i], 'hidden_dim': hidden_dim, 'latent_dim': rep_dim, 'norm': True, 'dropout': 0.2}\n",
    "train_params = {'switch': 5, 'lr': 5e-2}\n"
   ]
  },
  {
   "cell_type": "code",
   "execution_count": 27,
   "metadata": {},
   "outputs": [
    {
     "name": "stdout",
     "output_type": "stream",
     "text": [
      "Number of Parameters:  67572184\n"
     ]
    }
   ],
   "source": [
    "model = CustOMICS(source_params=source_params, central_params=central_params, classif_params=classif_params,\n",
    "                        surv_params=surv_params, train_params=train_params, device=device).to(device)\n",
    "print('Number of Parameters: ', model.get_number_parameters())"
   ]
  },
  {
   "cell_type": "code",
   "execution_count": 28,
   "metadata": {},
   "outputs": [
    {
     "name": "stderr",
     "output_type": "stream",
     "text": [
      "`sparse` was renamed to `sparse_output` in version 1.2 and will be removed in 1.4. `sparse_output` is ignored unless you leave `sparse` to its default value.\n"
     ]
    },
    {
     "name": "stdout",
     "output_type": "stream",
     "text": [
      "\tEpoch 1 complete! \tAverage Loss Train :  1.0068740621209145 \tAverage Loss Val :  4.563439607620239\n",
      "\tEpoch 2 complete! \tAverage Loss Train :  0.7736152857542038 \tAverage Loss Val :  0.865694522857666\n",
      "\tEpoch 3 complete! \tAverage Loss Train :  0.7274018079042435 \tAverage Loss Val :  0.6459679007530212\n",
      "\tEpoch 4 complete! \tAverage Loss Train :  0.699585072696209 \tAverage Loss Val :  0.6444719731807709\n",
      "\tEpoch 5 complete! \tAverage Loss Train :  0.6842915043234825 \tAverage Loss Val :  0.649602621793747\n",
      "\tEpoch 6 complete! \tAverage Loss Train :  1.4783950671553612 \tAverage Loss Val :  0.7636726498603821\n",
      "\tEpoch 7 complete! \tAverage Loss Train :  0.5737253129482269 \tAverage Loss Val :  0.37966687977313995\n",
      "\tEpoch 8 complete! \tAverage Loss Train :  0.41038450226187706 \tAverage Loss Val :  0.35161419212818146\n",
      "\tEpoch 9 complete! \tAverage Loss Train :  0.38750695437192917 \tAverage Loss Val :  0.33724410831928253\n",
      "\tEpoch 10 complete! \tAverage Loss Train :  0.36934104561805725 \tAverage Loss Val :  0.33131350576877594\n",
      "\tEpoch 11 complete! \tAverage Loss Train :  0.36536407470703125 \tAverage Loss Val :  0.3278028666973114\n",
      "\tEpoch 12 complete! \tAverage Loss Train :  0.3605615757405758 \tAverage Loss Val :  0.32316383719444275\n",
      "\tEpoch 13 complete! \tAverage Loss Train :  0.3600417673587799 \tAverage Loss Val :  0.3213070333003998\n",
      "\tEpoch 14 complete! \tAverage Loss Train :  0.3597298078238964 \tAverage Loss Val :  0.3241850286722183\n",
      "\tEpoch 15 complete! \tAverage Loss Train :  0.3530624881386757 \tAverage Loss Val :  0.3235725164413452\n"
     ]
    }
   ],
   "source": [
    "model.fit(omics_train=omics_train, clinical_df=clinical_df, label=label, event=event, surv_time=surv_time,\n",
    "            omics_val=omics_val, batch_size=batch_size, n_epochs=n_epochs, verbose=True)"
   ]
  },
  {
   "cell_type": "code",
   "execution_count": 29,
   "metadata": {},
   "outputs": [
    {
     "data": {
      "text/plain": [
       "0.547646383467279"
      ]
     },
     "execution_count": 29,
     "metadata": {},
     "output_type": "execute_result"
    }
   ],
   "source": [
    "model.evaluate(omics_test=omics_test, clinical_df=clinical_df, label=label, event=event, surv_time=surv_time,\n",
    "                task=task, batch_size=1024, plot_roc=False)"
   ]
  },
  {
   "cell_type": "code",
   "execution_count": 30,
   "metadata": {},
   "outputs": [
    {
     "data": {
      "image/png": "[encoded data removed]",
      "text/plain": [
       "<Figure size 640x480 with 1 Axes>"
      ]
     },
     "metadata": {},
     "output_type": "display_data"
    }
   ],
   "source": [
    "model.plot_loss()\n"
   ]
  }
 ],
 "metadata": {
  "kernelspec": {
   "display_name": "deep",
   "language": "python",
   "name": "python3"
  },
  "language_info": {
   "codemirror_mode": {
    "name": "ipython",
    "version": 3
   },
   "file_extension": ".py",
   "mimetype": "text/x-python",
   "name": "python",
   "nbconvert_exporter": "python",
   "pygments_lexer": "ipython3",
   "version": "3.11.3"
  }
 },
 "nbformat": 4,
 "nbformat_minor": 2
}
